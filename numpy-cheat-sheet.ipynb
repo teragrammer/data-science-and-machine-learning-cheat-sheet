{
 "cells": [
  {
   "cell_type": "markdown",
   "id": "2ceaa5bb-e76f-490e-9904-f19231751cb6",
   "metadata": {},
   "source": [
    "### Resources"
   ]
  },
  {
   "cell_type": "markdown",
   "id": "7926e695-0d6d-40e0-9c81-1e7bbc49bc82",
   "metadata": {},
   "source": [
    "- [Python Data Science Handbook](https://jakevdp.github.io/PythonDataScienceHandbook/02.02-the-basics-of-numpy-arrays.html)"
   ]
  },
  {
   "cell_type": "code",
   "execution_count": 1,
   "id": "885b60e9-dc5c-499e-a56a-7745ee83ca60",
   "metadata": {},
   "outputs": [],
   "source": [
    "import numpy as np\n",
    "import pandas as pd\n",
    "import matplotlib.pyplot as plt"
   ]
  },
  {
   "cell_type": "markdown",
   "id": "ad4cbe2b-bcc6-4103-894b-20f19b69db55",
   "metadata": {},
   "source": [
    "### Dataypes & Attributes"
   ]
  },
  {
   "cell_type": "code",
   "execution_count": 2,
   "id": "2bca33bd-dc08-4b34-b9e1-1186a1a2be20",
   "metadata": {},
   "outputs": [],
   "source": [
    "arr1 = np.array([1, 2, 3], dtype=np.int32) # ndarray"
   ]
  },
  {
   "cell_type": "code",
   "execution_count": 3,
   "id": "78e9dac2-e113-4f8e-af66-122068cccd53",
   "metadata": {},
   "outputs": [],
   "source": [
    "arr2 = np.array([[1, 2, 3],\n",
    "               [4, 5, 6]])"
   ]
  },
  {
   "cell_type": "code",
   "execution_count": 4,
   "id": "744e1dcf-0d9d-435a-b80a-e5f610932119",
   "metadata": {},
   "outputs": [],
   "source": [
    "arr3 = np.array([[[1, 2, 3],\n",
    "                [4, 5, 6],\n",
    "                [7, 8, 10]],\n",
    "                \n",
    "               [[1, 2, 3],\n",
    "                [4, 5, 6],\n",
    "                [7, 8, 10]],\n",
    "                \n",
    "               [[1, 2, 3],\n",
    "                [4, 5, 6],\n",
    "                [7, 8, 10]]])"
   ]
  },
  {
   "cell_type": "code",
   "execution_count": 5,
   "id": "c5d155d8-a608-4405-a20f-c2d13080f03c",
   "metadata": {},
   "outputs": [
    {
     "data": {
      "text/plain": [
       "(dtype('int32'), dtype('int64'), dtype('int64'))"
      ]
     },
     "execution_count": 5,
     "metadata": {},
     "output_type": "execute_result"
    }
   ],
   "source": [
    "arr1.dtype, arr2.dtype, arr3.dtype # data type of elements"
   ]
  },
  {
   "cell_type": "code",
   "execution_count": 6,
   "id": "a01e31fd-fe42-4265-8f9a-e519ef944879",
   "metadata": {},
   "outputs": [
    {
     "data": {
      "text/plain": [
       "((3,), (2, 3), (3, 3, 3))"
      ]
     },
     "execution_count": 6,
     "metadata": {},
     "output_type": "execute_result"
    }
   ],
   "source": [
    "arr1.shape, arr2.shape, arr3.shape # shape of the array (rows, cols, etc)"
   ]
  },
  {
   "cell_type": "code",
   "execution_count": 7,
   "id": "13ed4790-a33f-4463-949e-7a265692ebeb",
   "metadata": {},
   "outputs": [
    {
     "data": {
      "text/plain": [
       "(1, 2, 3)"
      ]
     },
     "execution_count": 7,
     "metadata": {},
     "output_type": "execute_result"
    }
   ],
   "source": [
    "arr1.ndim, arr2.ndim, arr3.ndim # number of dimensions, 2 to 2d array"
   ]
  },
  {
   "cell_type": "code",
   "execution_count": 8,
   "id": "6015c86b-5235-48bf-8b19-269c5078e0bf",
   "metadata": {},
   "outputs": [
    {
     "data": {
      "text/plain": [
       "(3, 6, 27)"
      ]
     },
     "execution_count": 8,
     "metadata": {},
     "output_type": "execute_result"
    }
   ],
   "source": [
    "arr1.size, arr2.size, arr3.size # total number of elements"
   ]
  },
  {
   "cell_type": "code",
   "execution_count": 9,
   "id": "e0bde816-5ff2-4fcb-8781-9d50288408ec",
   "metadata": {},
   "outputs": [
    {
     "data": {
      "text/html": [
       "<div>\n",
       "<style scoped>\n",
       "    .dataframe tbody tr th:only-of-type {\n",
       "        vertical-align: middle;\n",
       "    }\n",
       "\n",
       "    .dataframe tbody tr th {\n",
       "        vertical-align: top;\n",
       "    }\n",
       "\n",
       "    .dataframe thead th {\n",
       "        text-align: right;\n",
       "    }\n",
       "</style>\n",
       "<table border=\"1\" class=\"dataframe\">\n",
       "  <thead>\n",
       "    <tr style=\"text-align: right;\">\n",
       "      <th></th>\n",
       "      <th>0</th>\n",
       "      <th>1</th>\n",
       "      <th>2</th>\n",
       "    </tr>\n",
       "  </thead>\n",
       "  <tbody>\n",
       "    <tr>\n",
       "      <th>0</th>\n",
       "      <td>1</td>\n",
       "      <td>2</td>\n",
       "      <td>3</td>\n",
       "    </tr>\n",
       "    <tr>\n",
       "      <th>1</th>\n",
       "      <td>4</td>\n",
       "      <td>5</td>\n",
       "      <td>6</td>\n",
       "    </tr>\n",
       "  </tbody>\n",
       "</table>\n",
       "</div>"
      ],
      "text/plain": [
       "   0  1  2\n",
       "0  1  2  3\n",
       "1  4  5  6"
      ]
     },
     "execution_count": 9,
     "metadata": {},
     "output_type": "execute_result"
    }
   ],
   "source": [
    "df = pd.DataFrame(arr2) # create a dataframe from a numpy array\n",
    "df"
   ]
  },
  {
   "cell_type": "markdown",
   "id": "3d687d9a-3b69-43ec-bc2c-d05697040528",
   "metadata": {},
   "source": [
    "### Creating Arrays"
   ]
  },
  {
   "cell_type": "code",
   "execution_count": 10,
   "id": "b3436e6d-c122-465a-aaa5-4bdc195c427b",
   "metadata": {},
   "outputs": [
    {
     "data": {
      "text/plain": [
       "array([1, 2, 3])"
      ]
     },
     "execution_count": 10,
     "metadata": {},
     "output_type": "execute_result"
    }
   ],
   "source": [
    "lst = np.array([1, 2, 3]) # create an array from a list\n",
    "lst"
   ]
  },
  {
   "cell_type": "code",
   "execution_count": 11,
   "id": "b36fd828-c374-46fa-ad6a-bf54a648a791",
   "metadata": {},
   "outputs": [
    {
     "data": {
      "text/plain": [
       "array([1., 1., 1.])"
      ]
     },
     "execution_count": 11,
     "metadata": {},
     "output_type": "execute_result"
    }
   ],
   "source": [
    "olst = np.ones((3,)) # 1D array of ones\n",
    "olst"
   ]
  },
  {
   "cell_type": "code",
   "execution_count": 12,
   "id": "12e2007d-82fa-4aac-afd3-c35425a6d4bc",
   "metadata": {},
   "outputs": [
    {
     "data": {
      "text/plain": [
       "array([[0., 0., 0.],\n",
       "       [0., 0., 0.]])"
      ]
     },
     "execution_count": 12,
     "metadata": {},
     "output_type": "execute_result"
    }
   ],
   "source": [
    "zlst = np.zeros((2, 3)) # 2x3 array of zeros\n",
    "zlst"
   ]
  },
  {
   "cell_type": "code",
   "execution_count": 13,
   "id": "1e3fd387-69b3-4c42-a040-875ae3acfc19",
   "metadata": {},
   "outputs": [
    {
     "data": {
      "text/plain": [
       "array([[7, 7],\n",
       "       [7, 7]])"
      ]
     },
     "execution_count": 13,
     "metadata": {},
     "output_type": "execute_result"
    }
   ],
   "source": [
    "flst = np.full((2, 2), 7) # fill array with a constant\n",
    "flst"
   ]
  },
  {
   "cell_type": "code",
   "execution_count": 14,
   "id": "e98396cf-3e57-4451-b01c-1478013e6644",
   "metadata": {},
   "outputs": [
    {
     "data": {
      "text/plain": [
       "array([[1., 0., 0.],\n",
       "       [0., 1., 0.],\n",
       "       [0., 0., 1.]])"
      ]
     },
     "execution_count": 14,
     "metadata": {},
     "output_type": "execute_result"
    }
   ],
   "source": [
    "eflst = np.eye(3) # 3x3 identity matrix\n",
    "eflst"
   ]
  },
  {
   "cell_type": "code",
   "execution_count": 15,
   "id": "c1734c29-b5bf-4b87-a6da-ee2890e8efa2",
   "metadata": {},
   "outputs": [
    {
     "data": {
      "text/plain": [
       "array([0, 2, 4, 6, 8])"
      ]
     },
     "execution_count": 15,
     "metadata": {},
     "output_type": "execute_result"
    }
   ],
   "source": [
    "rlst = np.arange(0, 10, 2) # envely spaced values\n",
    "rlst"
   ]
  },
  {
   "cell_type": "code",
   "execution_count": 16,
   "id": "d2de3947-79db-4d3e-8669-927de4322665",
   "metadata": {},
   "outputs": [
    {
     "data": {
      "text/plain": [
       "array([[0.72261005, 0.20163964, 0.54174333],\n",
       "       [0.79173259, 0.22613162, 0.34026312]])"
      ]
     },
     "execution_count": 16,
     "metadata": {},
     "output_type": "execute_result"
    }
   ],
   "source": [
    "rdlst = np.random.rand(2, 3) # 2x3 array of random floats [0, 1]\n",
    "rdlst"
   ]
  },
  {
   "cell_type": "code",
   "execution_count": 17,
   "id": "40905197-99b3-4ac7-95dc-7abe72bf6e9c",
   "metadata": {},
   "outputs": [
    {
     "data": {
      "text/plain": [
       "array([[95, 34, 75, 97, 82],\n",
       "       [38, 53, 72,  8, 74],\n",
       "       [95, 64, 50, 37, 51]])"
      ]
     },
     "execution_count": 17,
     "metadata": {},
     "output_type": "execute_result"
    }
   ],
   "source": [
    "rdlst1 = np.random.randint(0, 100, size=(3, 5)) # generate random values and define size\n",
    "rdlst1"
   ]
  },
  {
   "cell_type": "code",
   "execution_count": 18,
   "id": "ba03091f-2ca8-4a51-8f16-af4cdb93d751",
   "metadata": {},
   "outputs": [
    {
     "data": {
      "text/plain": [
       "array([[1, 4, 0, 1, 3],\n",
       "       [4, 1, 0, 1, 2],\n",
       "       [0, 1, 0, 2, 0],\n",
       "       [4, 3, 0, 4, 3],\n",
       "       [0, 3, 2, 1, 0]])"
      ]
     },
     "execution_count": 18,
     "metadata": {},
     "output_type": "execute_result"
    }
   ],
   "source": [
    "np.random.seed(10) # psuedo-random numbers, reproducible results\n",
    "rdlst2 = np.random.randint(0, 5, size=(5, 5)) # generate random with seed\n",
    "rdlst2"
   ]
  },
  {
   "cell_type": "code",
   "execution_count": 19,
   "id": "86220fd4-aca0-4dc3-8ae7-23128664ea37",
   "metadata": {},
   "outputs": [
    {
     "data": {
      "text/plain": [
       "array([4, 1, 3, 6, 5])"
      ]
     },
     "execution_count": 19,
     "metadata": {},
     "output_type": "execute_result"
    }
   ],
   "source": [
    "x1 = np.random.randint(10, size=(5))  # One-dimensional array\n",
    "x1"
   ]
  },
  {
   "cell_type": "code",
   "execution_count": 20,
   "id": "aa4532c9-f443-4536-82b7-682f25c997b4",
   "metadata": {},
   "outputs": [
    {
     "data": {
      "text/plain": [
       "array([[3, 9, 6, 9, 1],\n",
       "       [9, 4, 2, 6, 7],\n",
       "       [8, 8, 9, 2, 0],\n",
       "       [6, 7, 8, 1, 7],\n",
       "       [1, 4, 0, 8, 5]])"
      ]
     },
     "execution_count": 20,
     "metadata": {},
     "output_type": "execute_result"
    }
   ],
   "source": [
    "x2 = np.random.randint(10, size=(5, 5))  # Two-dimensional array\n",
    "x2"
   ]
  },
  {
   "cell_type": "code",
   "execution_count": 21,
   "id": "985054a0-b876-4b5e-9568-ea44b1d22fb1",
   "metadata": {},
   "outputs": [
    {
     "data": {
      "text/plain": [
       "array([[[4, 7, 8, 8, 2],\n",
       "        [6, 2, 8, 8, 6],\n",
       "        [6, 5, 6, 0, 0],\n",
       "        [6, 9, 1, 8, 9],\n",
       "        [1, 2, 8, 9, 9]],\n",
       "\n",
       "       [[5, 0, 2, 7, 3],\n",
       "        [0, 4, 2, 0, 3],\n",
       "        [3, 1, 2, 5, 9],\n",
       "        [0, 1, 0, 1, 9],\n",
       "        [0, 9, 2, 1, 1]],\n",
       "\n",
       "       [[0, 0, 5, 9, 0],\n",
       "        [4, 6, 6, 0, 2],\n",
       "        [3, 3, 2, 6, 0],\n",
       "        [5, 1, 3, 6, 5],\n",
       "        [5, 1, 8, 0, 5]],\n",
       "\n",
       "       [[9, 8, 5, 7, 8],\n",
       "        [5, 8, 9, 9, 1],\n",
       "        [5, 9, 1, 4, 7],\n",
       "        [7, 7, 9, 7, 6],\n",
       "        [0, 3, 9, 4, 4]],\n",
       "\n",
       "       [[6, 8, 4, 9, 2],\n",
       "        [1, 1, 6, 3, 4],\n",
       "        [5, 4, 0, 2, 8],\n",
       "        [0, 7, 6, 5, 8],\n",
       "        [2, 2, 0, 1, 2]]])"
      ]
     },
     "execution_count": 21,
     "metadata": {},
     "output_type": "execute_result"
    }
   ],
   "source": [
    "x3 = np.random.randint(10, size=(5, 5, 5))  # Three-dimensional array\n",
    "x3"
   ]
  },
  {
   "cell_type": "markdown",
   "id": "1f81b4f5-e9f8-4186-a908-da60fb1b4150",
   "metadata": {},
   "source": [
    "### Viewing Arrays and Matrices"
   ]
  },
  {
   "cell_type": "markdown",
   "id": "c7f0eb23-65d2-40f2-b8a9-dc25c32c36f7",
   "metadata": {},
   "source": [
    "- Array Slicing: Accessing Subarrays\n",
    "```\n",
    "x[start:stop:step]\n",
    "```"
   ]
  },
  {
   "cell_type": "code",
   "execution_count": 22,
   "id": "05537c74-5d43-4eba-b79a-805968a7a2dd",
   "metadata": {},
   "outputs": [
    {
     "data": {
      "text/plain": [
       "array([0, 1, 2, 3, 4])"
      ]
     },
     "execution_count": 22,
     "metadata": {},
     "output_type": "execute_result"
    }
   ],
   "source": [
    "np.unique(rdlst2) # find unique values"
   ]
  },
  {
   "cell_type": "code",
   "execution_count": 23,
   "id": "1ee0584d-2528-4a41-afe2-b812df7e7369",
   "metadata": {},
   "outputs": [
    {
     "data": {
      "text/plain": [
       "array([4, 1, 0, 1, 2])"
      ]
     },
     "execution_count": 23,
     "metadata": {},
     "output_type": "execute_result"
    }
   ],
   "source": [
    "rdlst2[1] # view position 1 or 2nd element"
   ]
  },
  {
   "cell_type": "code",
   "execution_count": 24,
   "id": "7509cc5d-971c-44cc-ab2f-c1f94ad22aaa",
   "metadata": {},
   "outputs": [
    {
     "data": {
      "text/plain": [
       "array([0, 3, 2, 1, 0])"
      ]
     },
     "execution_count": 24,
     "metadata": {},
     "output_type": "execute_result"
    }
   ],
   "source": [
    "rdlst2[-1] # last element"
   ]
  },
  {
   "cell_type": "code",
   "execution_count": 25,
   "id": "0c041e98-5c7f-4ee4-ac6c-7505bf904668",
   "metadata": {},
   "outputs": [
    {
     "data": {
      "text/plain": [
       "array([[4, 1, 0, 1, 2]])"
      ]
     },
     "execution_count": 25,
     "metadata": {},
     "output_type": "execute_result"
    }
   ],
   "source": [
    "rdlst2[1:2] # slice from index 1 to 2"
   ]
  },
  {
   "cell_type": "code",
   "execution_count": 26,
   "id": "d81157e1-6361-4ba4-92e3-716bda85e1c3",
   "metadata": {},
   "outputs": [
    {
     "data": {
      "text/plain": [
       "array([[1, 4, 0, 1, 3],\n",
       "       [4, 1, 0, 1, 2],\n",
       "       [0, 1, 0, 2, 0]])"
      ]
     },
     "execution_count": 26,
     "metadata": {},
     "output_type": "execute_result"
    }
   ],
   "source": [
    "rdlst2[:3] # first 3 elements"
   ]
  },
  {
   "cell_type": "code",
   "execution_count": 27,
   "id": "3a27c112-2fee-4a4f-ae20-852465e7fccf",
   "metadata": {},
   "outputs": [
    {
     "data": {
      "text/plain": [
       "array([[1, 4, 0, 1, 3],\n",
       "       [0, 1, 0, 2, 0],\n",
       "       [0, 3, 2, 1, 0]])"
      ]
     },
     "execution_count": 27,
     "metadata": {},
     "output_type": "execute_result"
    }
   ],
   "source": [
    "rdlst2[::2] # every other element"
   ]
  },
  {
   "cell_type": "code",
   "execution_count": 28,
   "id": "9be1e837-6c31-46d8-9957-2e3b8e2e0491",
   "metadata": {},
   "outputs": [
    {
     "data": {
      "text/plain": [
       "0"
      ]
     },
     "execution_count": 28,
     "metadata": {},
     "output_type": "execute_result"
    }
   ],
   "source": [
    "rdlst2[1, 2] # element at row 1, col 2"
   ]
  },
  {
   "cell_type": "code",
   "execution_count": 29,
   "id": "68fe6d29-a441-4a26-adc5-567f425acdb2",
   "metadata": {},
   "outputs": [
    {
     "data": {
      "text/plain": [
       "array([0, 0, 0, 0, 2])"
      ]
     },
     "execution_count": 29,
     "metadata": {},
     "output_type": "execute_result"
    }
   ],
   "source": [
    "rdlst2[:, 2] # all rows, column 1"
   ]
  },
  {
   "cell_type": "markdown",
   "id": "d55a762a-d6b1-4629-8be5-aa63ee8436d6",
   "metadata": {},
   "source": [
    "### Manipulating and Comparing Arrays"
   ]
  },
  {
   "cell_type": "code",
   "execution_count": 30,
   "id": "ef1c2b0e-620e-491b-a119-8e405362ab3b",
   "metadata": {},
   "outputs": [
    {
     "data": {
      "text/plain": [
       "(array([[4, 4, 2, 4, 1]]), array([[4, 4, 4, 3, 1]]))"
      ]
     },
     "execution_count": 30,
     "metadata": {},
     "output_type": "execute_result"
    }
   ],
   "source": [
    "marr1 = np.random.randint(1, 5, size=(1,5))\n",
    "marr2 = np.random.randint(1, 5, size=(1,5))\n",
    "\n",
    "marr1, marr2"
   ]
  },
  {
   "cell_type": "code",
   "execution_count": 31,
   "id": "2d76195b-228e-440e-b06c-671c97108058",
   "metadata": {},
   "outputs": [
    {
     "data": {
      "text/plain": [
       "array([[8, 8, 6, 7, 2]])"
      ]
     },
     "execution_count": 31,
     "metadata": {},
     "output_type": "execute_result"
    }
   ],
   "source": [
    "marr1 + marr2 # add arrays"
   ]
  },
  {
   "cell_type": "code",
   "execution_count": 32,
   "id": "86197100-ed5e-4064-bfa5-c182e58b55c7",
   "metadata": {},
   "outputs": [
    {
     "data": {
      "text/plain": [
       "array([[ 0,  0, -2,  1,  0]])"
      ]
     },
     "execution_count": 32,
     "metadata": {},
     "output_type": "execute_result"
    }
   ],
   "source": [
    "marr1 - marr2 # subtract arrays"
   ]
  },
  {
   "cell_type": "code",
   "execution_count": 33,
   "id": "5c147081-1081-423c-b633-df4025f6a79c",
   "metadata": {},
   "outputs": [
    {
     "data": {
      "text/plain": [
       "array([[16, 16,  8, 12,  1]])"
      ]
     },
     "execution_count": 33,
     "metadata": {},
     "output_type": "execute_result"
    }
   ],
   "source": [
    "marr1 * marr2 # multly arrays"
   ]
  },
  {
   "cell_type": "code",
   "execution_count": 34,
   "id": "b6c793c3-abf3-491f-aac0-78760ad4d6bd",
   "metadata": {},
   "outputs": [
    {
     "data": {
      "text/plain": [
       "array([[1.        , 1.        , 0.5       , 1.33333333, 1.        ]])"
      ]
     },
     "execution_count": 34,
     "metadata": {},
     "output_type": "execute_result"
    }
   ],
   "source": [
    "marr1 / marr2 # divide arrays"
   ]
  },
  {
   "cell_type": "markdown",
   "id": "848b2a18-5202-4e0b-afc3-a18101d069c0",
   "metadata": {},
   "source": [
    "### Aggregation"
   ]
  },
  {
   "cell_type": "code",
   "execution_count": 35,
   "id": "c46d8fc7-64b8-4a99-88e6-101ef7a86921",
   "metadata": {},
   "outputs": [
    {
     "data": {
      "text/plain": [
       "6"
      ]
     },
     "execution_count": 35,
     "metadata": {},
     "output_type": "execute_result"
    }
   ],
   "source": [
    "np.sum(arr1) # add all element"
   ]
  },
  {
   "cell_type": "code",
   "execution_count": 36,
   "id": "a085c488-44be-4939-8d08-f462eafcdfd6",
   "metadata": {},
   "outputs": [
    {
     "data": {
      "text/plain": [
       "2.0"
      ]
     },
     "execution_count": 36,
     "metadata": {},
     "output_type": "execute_result"
    }
   ],
   "source": [
    "np.mean(arr1) # average"
   ]
  },
  {
   "cell_type": "code",
   "execution_count": 37,
   "id": "f3ac3285-9dd0-41bb-8f64-9e8b97e3bb0b",
   "metadata": {},
   "outputs": [
    {
     "data": {
      "text/plain": [
       "(3, 1)"
      ]
     },
     "execution_count": 37,
     "metadata": {},
     "output_type": "execute_result"
    }
   ],
   "source": [
    "np.max(arr1), np.min(arr1) # find extremes"
   ]
  },
  {
   "cell_type": "code",
   "execution_count": 38,
   "id": "3b58dbb3-1833-4d4e-9167-9115ceb761d9",
   "metadata": {},
   "outputs": [
    {
     "data": {
      "text/plain": [
       "0.816496580927726"
      ]
     },
     "execution_count": 38,
     "metadata": {},
     "output_type": "execute_result"
    }
   ],
   "source": [
    "np.std(arr1) # standard deviation = a measure of how spread out a grouup of numbers"
   ]
  },
  {
   "cell_type": "code",
   "execution_count": 39,
   "id": "80209ca6-ab99-4f76-81cf-d9a858b21544",
   "metadata": {},
   "outputs": [
    {
     "data": {
      "text/plain": [
       "0.6666666666666666"
      ]
     },
     "execution_count": 39,
     "metadata": {},
     "output_type": "execute_result"
    }
   ],
   "source": [
    "np.var(arr1) # variance = measure of average degree to which each number is different"
   ]
  },
  {
   "cell_type": "code",
   "execution_count": 40,
   "id": "862372f0-5c85-4418-8609-c292e71e022c",
   "metadata": {},
   "outputs": [
    {
     "data": {
      "text/plain": [
       "0.816496580927726"
      ]
     },
     "execution_count": 40,
     "metadata": {},
     "output_type": "execute_result"
    }
   ],
   "source": [
    "np.sqrt(np.var(arr1)) # standard deviation = squareroot of variance"
   ]
  },
  {
   "cell_type": "code",
   "execution_count": 41,
   "id": "4e2f791e-f6a8-40a6-986d-91242e8a1c30",
   "metadata": {},
   "outputs": [],
   "source": [
    "# sample of var and var\n",
    "high_var_array = np.array([1, 100, 200, 300, 400, 500])\n",
    "low_var_array = np.array([2, 4, 6, 8, 10, 12])"
   ]
  },
  {
   "cell_type": "code",
   "execution_count": 42,
   "id": "8e6a0b03-9963-4010-80fb-0c0e85ae0b29",
   "metadata": {},
   "outputs": [
    {
     "data": {
      "text/plain": [
       "(29083.47222222222, 11.666666666666666)"
      ]
     },
     "execution_count": 42,
     "metadata": {},
     "output_type": "execute_result"
    }
   ],
   "source": [
    "np.var(high_var_array), np.var(low_var_array)"
   ]
  },
  {
   "cell_type": "code",
   "execution_count": 43,
   "id": "26036ac0-d9fb-4651-91ad-b0f55673a9f4",
   "metadata": {},
   "outputs": [
    {
     "data": {
      "text/plain": [
       "(170.5387704371713, 3.415650255319866)"
      ]
     },
     "execution_count": 43,
     "metadata": {},
     "output_type": "execute_result"
    }
   ],
   "source": [
    "np.std(high_var_array), np.std(low_var_array)"
   ]
  },
  {
   "cell_type": "code",
   "execution_count": 44,
   "id": "bdd6709d-a9b2-41db-b270-a7653d49f3ee",
   "metadata": {},
   "outputs": [
    {
     "data": {
      "text/plain": [
       "(250.16666666666666, 7.0)"
      ]
     },
     "execution_count": 44,
     "metadata": {},
     "output_type": "execute_result"
    }
   ],
   "source": [
    "np.mean(high_var_array), np.mean(low_var_array)"
   ]
  },
  {
   "cell_type": "code",
   "execution_count": 45,
   "id": "aec268ad-da2c-494a-b7c6-b912bebc17a0",
   "metadata": {},
   "outputs": [
    {
     "data": {
      "image/png": "[encoded data removed]",
      "text/plain": [
       "<Figure size 640x480 with 1 Axes>"
      ]
     },
     "metadata": {},
     "output_type": "display_data"
    }
   ],
   "source": [
    "plt.hist(high_var_array)\n",
    "plt.show()"
   ]
  },
  {
   "cell_type": "code",
   "execution_count": 46,
   "id": "2fe5460d-5c06-47ca-9d52-4ec37fea554c",
   "metadata": {},
   "outputs": [
    {
     "data": {
      "image/png": "[encoded data removed]",
      "text/plain": [
       "<Figure size 640x480 with 1 Axes>"
      ]
     },
     "metadata": {},
     "output_type": "display_data"
    }
   ],
   "source": [
    "plt.hist(low_var_array)\n",
    "plt.show()"
   ]
  },
  {
   "cell_type": "markdown",
   "id": "8c9873db-8da5-4f5a-918f-ff7598426a75",
   "metadata": {},
   "source": [
    "### Reshaping and Transposing"
   ]
  },
  {
   "cell_type": "code",
   "execution_count": 47,
   "id": "f0528466-1884-409a-ae8d-77adb223a1d3",
   "metadata": {},
   "outputs": [],
   "source": [
    "rtarr1 = np.arange(6)"
   ]
  },
  {
   "cell_type": "code",
   "execution_count": 48,
   "id": "90b8bb71-ef61-41e9-9981-b3da56f1b1f7",
   "metadata": {},
   "outputs": [
    {
     "data": {
      "text/plain": [
       "array([[0, 1, 2],\n",
       "       [3, 4, 5]])"
      ]
     },
     "execution_count": 48,
     "metadata": {},
     "output_type": "execute_result"
    }
   ],
   "source": [
    "rtarr1.reshape(2, 3) # change the shape"
   ]
  },
  {
   "cell_type": "code",
   "execution_count": 49,
   "id": "87e72d29-993b-4e4d-9073-f4fccba981cc",
   "metadata": {},
   "outputs": [],
   "source": [
    "rtarr2 = np.random.randint(1, 5, size=(3, 5))"
   ]
  },
  {
   "cell_type": "code",
   "execution_count": 50,
   "id": "ea774cd4-bd74-4948-9419-fd7da6cab3b4",
   "metadata": {},
   "outputs": [
    {
     "data": {
      "text/plain": [
       "array([[2, 3, 1, 1, 1],\n",
       "       [3, 2, 2, 1, 3],\n",
       "       [3, 2, 1, 1, 4]])"
      ]
     },
     "execution_count": 50,
     "metadata": {},
     "output_type": "execute_result"
    }
   ],
   "source": [
    "rtarr2"
   ]
  },
  {
   "cell_type": "code",
   "execution_count": 51,
   "id": "2ac45c50-e035-4e90-85ff-742a2cf11a95",
   "metadata": {},
   "outputs": [
    {
     "data": {
      "text/plain": [
       "array([[2, 3, 3],\n",
       "       [3, 2, 2],\n",
       "       [1, 2, 1],\n",
       "       [1, 1, 1],\n",
       "       [1, 3, 4]])"
      ]
     },
     "execution_count": 51,
     "metadata": {},
     "output_type": "execute_result"
    }
   ],
   "source": [
    "rtarr2 = rtarr2.T # transpose = switches the axis\n",
    "rtarr2"
   ]
  },
  {
   "cell_type": "code",
   "execution_count": 52,
   "id": "71298855-713b-4b69-9a57-f5ad3f09538a",
   "metadata": {},
   "outputs": [
    {
     "data": {
      "text/plain": [
       "(5, 3)"
      ]
     },
     "execution_count": 52,
     "metadata": {},
     "output_type": "execute_result"
    }
   ],
   "source": [
    "rtarr2.shape"
   ]
  },
  {
   "cell_type": "markdown",
   "id": "61966388-5382-46ad-b628-04a2e0a327d8",
   "metadata": {},
   "source": [
    "### Dot Product"
   ]
  },
  {
   "cell_type": "code",
   "execution_count": 53,
   "id": "1e519524-d7fc-40f2-b5c0-c3b904190149",
   "metadata": {},
   "outputs": [],
   "source": [
    "np.random.seed(0)\n",
    "\n",
    "mat1 = np.random.randint(10, size=(3, 5))\n",
    "mat2 = np.random.randint(10, size=(5, 3))"
   ]
  },
  {
   "cell_type": "code",
   "execution_count": 54,
   "id": "81e628b7-0ef7-4fed-b6d2-271435bbd049",
   "metadata": {},
   "outputs": [
    {
     "data": {
      "text/plain": [
       "(array([[5, 0, 3, 3, 7],\n",
       "        [9, 3, 5, 2, 4],\n",
       "        [7, 6, 8, 8, 1]]),\n",
       " array([[6, 7, 7],\n",
       "        [8, 1, 5],\n",
       "        [9, 8, 9],\n",
       "        [4, 3, 0],\n",
       "        [3, 5, 0]]))"
      ]
     },
     "execution_count": 54,
     "metadata": {},
     "output_type": "execute_result"
    }
   ],
   "source": [
    "mat1, mat2"
   ]
  },
  {
   "cell_type": "code",
   "execution_count": 55,
   "id": "dffd2a5d-7c98-4a78-8f96-b6b4ef5da9a3",
   "metadata": {},
   "outputs": [
    {
     "data": {
      "text/plain": [
       "((3, 5), (5, 3))"
      ]
     },
     "execution_count": 55,
     "metadata": {},
     "output_type": "execute_result"
    }
   ],
   "source": [
    "mat1.shape, mat2.shape"
   ]
  },
  {
   "cell_type": "code",
   "execution_count": 56,
   "id": "d6505045-9c83-4822-a4c1-1031e1a73c8e",
   "metadata": {},
   "outputs": [],
   "source": [
    "mat3 = np.dot(mat1, mat2)"
   ]
  },
  {
   "cell_type": "code",
   "execution_count": 57,
   "id": "ecea5997-0daa-499f-9846-496080768074",
   "metadata": {},
   "outputs": [
    {
     "data": {
      "text/plain": [
       "(array([[ 90, 103,  62],\n",
       "        [143, 132, 123],\n",
       "        [197, 148, 151]]),\n",
       " (3, 3))"
      ]
     },
     "execution_count": 57,
     "metadata": {},
     "output_type": "execute_result"
    }
   ],
   "source": [
    "mat3, mat3.shape"
   ]
  },
  {
   "cell_type": "markdown",
   "id": "c508ba7b-8dc8-4f7e-ab00-7f71c0506ade",
   "metadata": {},
   "source": [
    "### Comparison Operators"
   ]
  },
  {
   "cell_type": "code",
   "execution_count": 58,
   "id": "c5b634d1-333b-4c6f-8f8d-bdf54e18769e",
   "metadata": {},
   "outputs": [],
   "source": [
    "np.random.seed(0)\n",
    "\n",
    "coarr1 = np.random.randint(10, size=(5, 3))\n",
    "coarr2 = np.random.randint(10, size=(5, 3))"
   ]
  },
  {
   "cell_type": "code",
   "execution_count": 59,
   "id": "06f4e780-422e-4c22-a782-a5f4a671e1f0",
   "metadata": {},
   "outputs": [
    {
     "data": {
      "text/plain": [
       "(array([[5, 0, 3],\n",
       "        [3, 7, 9],\n",
       "        [3, 5, 2],\n",
       "        [4, 7, 6],\n",
       "        [8, 8, 1]]),\n",
       " array([[6, 7, 7],\n",
       "        [8, 1, 5],\n",
       "        [9, 8, 9],\n",
       "        [4, 3, 0],\n",
       "        [3, 5, 0]]))"
      ]
     },
     "execution_count": 59,
     "metadata": {},
     "output_type": "execute_result"
    }
   ],
   "source": [
    "coarr1, coarr2"
   ]
  },
  {
   "cell_type": "code",
   "execution_count": 60,
   "id": "b37ea8e9-439c-429e-b44b-54d63a04023f",
   "metadata": {},
   "outputs": [
    {
     "data": {
      "text/plain": [
       "array([[False, False, False],\n",
       "       [False,  True,  True],\n",
       "       [False, False, False],\n",
       "       [False,  True,  True],\n",
       "       [ True,  True,  True]])"
      ]
     },
     "execution_count": 60,
     "metadata": {},
     "output_type": "execute_result"
    }
   ],
   "source": [
    "coarr1 > coarr2 # greater than comparison"
   ]
  },
  {
   "cell_type": "code",
   "execution_count": 61,
   "id": "6f975aa0-47b0-47c5-ad4e-1dd597e12b06",
   "metadata": {},
   "outputs": [
    {
     "data": {
      "text/plain": [
       "array([[ True,  True,  True],\n",
       "       [ True, False, False],\n",
       "       [ True,  True,  True],\n",
       "       [False, False, False],\n",
       "       [False, False, False]])"
      ]
     },
     "execution_count": 61,
     "metadata": {},
     "output_type": "execute_result"
    }
   ],
   "source": [
    "coarr1 < coarr2 # less than comparison"
   ]
  },
  {
   "cell_type": "code",
   "execution_count": 62,
   "id": "b7a87b2c-069e-462a-8b91-1022d9874e59",
   "metadata": {},
   "outputs": [
    {
     "data": {
      "text/plain": [
       "array([[False, False, False],\n",
       "       [False, False, False],\n",
       "       [False, False, False],\n",
       "       [ True, False, False],\n",
       "       [False, False, False]])"
      ]
     },
     "execution_count": 62,
     "metadata": {},
     "output_type": "execute_result"
    }
   ],
   "source": [
    "coarr1 == coarr2 # comparing equality"
   ]
  },
  {
   "cell_type": "markdown",
   "id": "e5e7d9a8-4316-4c4a-932e-2f367bd58ada",
   "metadata": {},
   "source": [
    "### Sorting Array"
   ]
  },
  {
   "cell_type": "code",
   "execution_count": 63,
   "id": "27b118cd-c470-4b4d-bc04-6b1b5476e25d",
   "metadata": {},
   "outputs": [],
   "source": [
    "np.random.seed(0)\n",
    "\n",
    "sarr1 = np.random.randint(10, size=(5, 5))"
   ]
  },
  {
   "cell_type": "code",
   "execution_count": 64,
   "id": "56ae69b3-f005-4238-a4b5-d634bc57cd8d",
   "metadata": {},
   "outputs": [
    {
     "data": {
      "text/plain": [
       "(array([[5, 0, 3, 3, 7],\n",
       "        [9, 3, 5, 2, 4],\n",
       "        [7, 6, 8, 8, 1],\n",
       "        [6, 7, 7, 8, 1],\n",
       "        [5, 9, 8, 9, 4]]),\n",
       " (5, 5))"
      ]
     },
     "execution_count": 64,
     "metadata": {},
     "output_type": "execute_result"
    }
   ],
   "source": [
    "sarr1, sarr1.shape"
   ]
  },
  {
   "cell_type": "code",
   "execution_count": 65,
   "id": "fb7d6875-bff2-458f-bf6f-86a524382923",
   "metadata": {},
   "outputs": [
    {
     "data": {
      "text/plain": [
       "array([[0, 3, 3, 5, 7],\n",
       "       [2, 3, 4, 5, 9],\n",
       "       [1, 6, 7, 8, 8],\n",
       "       [1, 6, 7, 7, 8],\n",
       "       [4, 5, 8, 9, 9]])"
      ]
     },
     "execution_count": 65,
     "metadata": {},
     "output_type": "execute_result"
    }
   ],
   "source": [
    "np.sort(sarr1) # sort values"
   ]
  },
  {
   "cell_type": "code",
   "execution_count": 66,
   "id": "a2579392-a6aa-488b-bf93-b2738c54c3ca",
   "metadata": {},
   "outputs": [
    {
     "data": {
      "text/plain": [
       "array([[1, 2, 3, 0, 4],\n",
       "       [3, 1, 4, 2, 0],\n",
       "       [4, 1, 0, 2, 3],\n",
       "       [4, 0, 1, 2, 3],\n",
       "       [4, 0, 2, 1, 3]])"
      ]
     },
     "execution_count": 66,
     "metadata": {},
     "output_type": "execute_result"
    }
   ],
   "source": [
    "np.argsort(sarr1) # sort index"
   ]
  },
  {
   "cell_type": "code",
   "execution_count": 67,
   "id": "81db7684-18d5-48b3-ae85-66b769f87491",
   "metadata": {},
   "outputs": [
    {
     "data": {
      "text/plain": [
       "array([1, 4, 2, 4, 0])"
      ]
     },
     "execution_count": 67,
     "metadata": {},
     "output_type": "execute_result"
    }
   ],
   "source": [
    "np.argmax(sarr1, axis=0) # sort index thru axis=0 or column"
   ]
  },
  {
   "cell_type": "code",
   "execution_count": 68,
   "id": "0a30520c-844e-44cc-9f19-fb9d8655df30",
   "metadata": {},
   "outputs": [
    {
     "data": {
      "text/plain": [
       "array([4, 0, 2, 3, 1])"
      ]
     },
     "execution_count": 68,
     "metadata": {},
     "output_type": "execute_result"
    }
   ],
   "source": [
    "np.argmax(sarr1, axis=1) # sort index thru axis=1 or row"
   ]
  },
  {
   "cell_type": "markdown",
   "id": "75615637-8f37-426f-b981-f97fd07839e7",
   "metadata": {},
   "source": [
    "### Turn an Image to Numpy Array"
   ]
  },
  {
   "cell_type": "code",
   "execution_count": 69,
   "id": "c29f1753-8d8d-4b6b-ac85-29541e5b1e71",
   "metadata": {},
   "outputs": [],
   "source": [
    "from matplotlib.image import imread"
   ]
  },
  {
   "cell_type": "markdown",
   "id": "04237b0b-f595-4081-9b13-b345455a09f2",
   "metadata": {},
   "source": [
    "<img src=\"images/lenna.png\"/>"
   ]
  },
  {
   "cell_type": "code",
   "execution_count": 70,
   "id": "ec2ae263-c8e8-4347-b049-88cefaf5cd54",
   "metadata": {},
   "outputs": [],
   "source": [
    "lenna = imread(\"images/lenna.png\")"
   ]
  },
  {
   "cell_type": "code",
   "execution_count": 71,
   "id": "816832d9-c6e6-48d7-827e-e32db75af628",
   "metadata": {},
   "outputs": [
    {
     "data": {
      "text/plain": [
       "numpy.ndarray"
      ]
     },
     "execution_count": 71,
     "metadata": {},
     "output_type": "execute_result"
    }
   ],
   "source": [
    "type(lenna)"
   ]
  },
  {
   "cell_type": "code",
   "execution_count": 72,
   "id": "e3047591-7e50-4b20-b5c9-0b35456ae712",
   "metadata": {},
   "outputs": [
    {
     "data": {
      "text/plain": [
       "(187500, (250, 250, 3), 3)"
      ]
     },
     "execution_count": 72,
     "metadata": {},
     "output_type": "execute_result"
    }
   ],
   "source": [
    "lenna.size, lenna.shape, lenna.ndim"
   ]
  },
  {
   "cell_type": "code",
   "execution_count": 73,
   "id": "e70413be-1c82-47c1-9406-fd6bfd686c66",
   "metadata": {},
   "outputs": [
    {
     "data": {
      "text/plain": [
       "array([[[0.88235295, 0.53333336, 0.49411765],\n",
       "        [0.8745098 , 0.5372549 , 0.5058824 ],\n",
       "        [0.8862745 , 0.52156866, 0.4627451 ],\n",
       "        ...,\n",
       "        [0.9019608 , 0.57254905, 0.5058824 ],\n",
       "        [0.90588236, 0.5764706 , 0.4745098 ],\n",
       "        [0.8235294 , 0.4509804 , 0.39607844]],\n",
       "\n",
       "       [[0.88235295, 0.53333336, 0.49411765],\n",
       "        [0.8745098 , 0.5372549 , 0.50980395],\n",
       "        [0.8862745 , 0.52156866, 0.4627451 ],\n",
       "        ...,\n",
       "        [0.90588236, 0.58431375, 0.5137255 ],\n",
       "        [0.92156863, 0.6       , 0.49019608],\n",
       "        [0.84705883, 0.4745098 , 0.40392157]],\n",
       "\n",
       "       [[0.8862745 , 0.5411765 , 0.48235294],\n",
       "        [0.8784314 , 0.5254902 , 0.4745098 ],\n",
       "        [0.8862745 , 0.52156866, 0.45882353],\n",
       "        ...,\n",
       "        [0.8745098 , 0.5254902 , 0.4627451 ],\n",
       "        [0.8392157 , 0.47058824, 0.4117647 ],\n",
       "        [0.69411767, 0.3254902 , 0.34509805]],\n",
       "\n",
       "       [[0.88235295, 0.52156866, 0.45882353],\n",
       "        [0.8784314 , 0.5176471 , 0.4392157 ],\n",
       "        [0.8862745 , 0.52156866, 0.46666667],\n",
       "        ...,\n",
       "        [0.59607846, 0.24705882, 0.3137255 ],\n",
       "        [0.46666667, 0.14901961, 0.28235295],\n",
       "        [0.3764706 , 0.09019608, 0.2627451 ]],\n",
       "\n",
       "       [[0.8745098 , 0.5058824 , 0.40784314],\n",
       "        [0.8745098 , 0.52156866, 0.43137255],\n",
       "        [0.88235295, 0.5058824 , 0.43529412],\n",
       "        ...,\n",
       "        [0.3764706 , 0.09019608, 0.24705882],\n",
       "        [0.34509805, 0.07843138, 0.25490198],\n",
       "        [0.35686275, 0.07843138, 0.25490198]]], dtype=float32)"
      ]
     },
     "execution_count": 73,
     "metadata": {},
     "output_type": "execute_result"
    }
   ],
   "source": [
    "lenna[:5]"
   ]
  },
  {
   "cell_type": "code",
   "execution_count": null,
   "id": "034c5ca7-480f-411a-a4cc-8f37cfdeb0b2",
   "metadata": {},
   "outputs": [],
   "source": []
  }
 ],
 "metadata": {
  "kernelspec": {
   "display_name": "Python [conda env:base]",
   "language": "python",
   "name": "conda-base-py"
  },
  "language_info": {
   "codemirror_mode": {
    "name": "ipython",
    "version": 3
   },
   "file_extension": ".py",
   "mimetype": "text/x-python",
   "name": "python",
   "nbconvert_exporter": "python",
   "pygments_lexer": "ipython3",
   "version": "3.11.5"
  }
 },
 "nbformat": 4,
 "nbformat_minor": 5
}
